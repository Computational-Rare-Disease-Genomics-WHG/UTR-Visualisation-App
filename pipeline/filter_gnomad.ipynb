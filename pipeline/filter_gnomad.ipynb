{
 "cells": [
  {
   "cell_type": "code",
   "execution_count": 1,
   "id": "0070501e-70db-4c15-b7be-76e5111f563c",
   "metadata": {},
   "outputs": [
    {
     "name": "stderr",
     "output_type": "stream",
     "text": [
      "Running on Apache Spark version 3.1.2\n",
      "SparkUI available at http://192-168-1-12.tpgi.com.au:4041\n",
      "Welcome to\n",
      "     __  __     <>__\n",
      "    / /_/ /__  __/ /\n",
      "   / __  / _ `/ / /\n",
      "  /_/ /_/\\_,_/_/_/   version 0.2.73-c6f6f09cec08\n",
      "LOGGING: writing to /Users/elston.dsouza/Projects/UTR-Visualisation-App/pipeline/hail-20210817-2159-0.2.73-c6f6f09cec08.log\n"
     ]
    }
   ],
   "source": [
    "import hail as hl \n",
    "import pandas as pd \n",
    "\n",
    "hl.init()"
   ]
  },
  {
   "cell_type": "code",
   "execution_count": 2,
   "id": "a7729c2b-6560-4ce1-b390-4fa7569c9a11",
   "metadata": {},
   "outputs": [],
   "source": [
    "gnomad = hl.read_table(\"gs://gcp-public-data--gnomad/release/3.1.1/ht/genomes/gnomad.genomes.v3.1.1.sites.ht\")\n"
   ]
  },
  {
   "cell_type": "code",
   "execution_count": 3,
   "id": "e31a483c-8104-44e7-a276-ebc27b2e9068",
   "metadata": {},
   "outputs": [],
   "source": [
    "utr_regions = hl.Table.from_pandas(pd.read_csv(\"UTR_regions.tsv\", sep=\"\\t\", names = [\"CHROM\", \"POS\", \"POS_TO\"]))\n",
    "\n",
    "# Parse intervals\n",
    "utr_regions = utr_regions.annotate(interval = hl.parse_locus_interval(hl.format(\"chr%s:%s-%s\", \n",
    "                                                                                utr_regions.CHROM,\n",
    "                                                                                utr_regions.POS,\n",
    "                                                                                utr_regions.POS_TO), \n",
    "                                                                     reference_genome='GRCh38'))\n",
    "utr_regions = utr_regions.key_by(\"interval\")"
   ]
  },
  {
   "cell_type": "code",
   "execution_count": 4,
   "id": "eff88fdf-5b80-47ed-af11-794722918e1a",
   "metadata": {},
   "outputs": [],
   "source": [
    "gnomad = gnomad.filter(hl.is_defined(utr_regions[gnomad.locus]))"
   ]
  },
  {
   "cell_type": "code",
   "execution_count": 5,
   "id": "5813438e-72c2-4f8e-b661-f110465ee7b9",
   "metadata": {},
   "outputs": [],
   "source": [
    "vep_input = gnomad.select(gnomad.vep.input)"
   ]
  },
  {
   "cell_type": "code",
   "execution_count": null,
   "id": "6ed611b2-67bf-470f-a213-7de0b8e2f491",
   "metadata": {},
   "outputs": [
    {
     "name": "stderr",
     "output_type": "stream",
     "text": [
      "2021-08-17 22:23:09 Hail: INFO: Ordering unsorted dataset with network shuffle\n"
     ]
    }
   ],
   "source": [
    "vep_input.export(\"gnomad_v.3.1.1_utr_variants_vep_input.tsv.bgz\")"
   ]
  },
  {
   "cell_type": "code",
   "execution_count": 4,
   "id": "1f0bbfe4-878e-4eaa-8718-8cbe05401fb3",
   "metadata": {},
   "outputs": [
    {
     "data": {
      "text/plain": [
       "27206"
      ]
     },
     "execution_count": 4,
     "metadata": {},
     "output_type": "execute_result"
    }
   ],
   "source": [
    "utr_regions.count()\n",
    "gnomad.show(10)\n",
    "gnomad.describe()\n",
    "vep_df"
   ]
  }
 ],
 "metadata": {
  "kernelspec": {
   "display_name": "Python 3",
   "language": "python",
   "name": "python3"
  },
  "language_info": {
   "codemirror_mode": {
    "name": "ipython",
    "version": 3
   },
   "file_extension": ".py",
   "mimetype": "text/x-python",
   "name": "python",
   "nbconvert_exporter": "python",
   "pygments_lexer": "ipython3",
   "version": "3.7.10"
  }
 },
 "nbformat": 4,
 "nbformat_minor": 5
}
